{
 "cells": [
  {
   "cell_type": "code",
   "execution_count": 1,
   "id": "d07b24aa",
   "metadata": {},
   "outputs": [
    {
     "name": "stdout",
     "output_type": "stream",
     "text": [
      "Header: ['teacher_id', 'first_name', 'last_name', 'subject']\n",
      "First 5 rows: [['T1', 'Alice', 'Smith', 'Mathematics'], ['T2', 'John', 'Brown', 'Physics'], ['T3', 'Maria', 'Johnson', 'Literature']]\n"
     ]
    }
   ],
   "source": [
    "    import csv\n",
    "\n",
    "    filename = \"teachers.csv\"\n",
    "    data = []\n",
    "\n",
    "    with open(filename, 'r', newline='') as csvfile:\n",
    "        csvreader = csv.reader(csvfile)\n",
    "        header = next(csvreader)\n",
    "        for row in csvreader:\n",
    "            data.append(row)\n",
    "\n",
    "    print(\"Header:\", header)\n",
    "    print(\"First 5 rows:\", data[:5])"
   ]
  },
  {
   "cell_type": "code",
   "execution_count": 2,
   "id": "a7d01000",
   "metadata": {},
   "outputs": [
    {
     "name": "stdout",
     "output_type": "stream",
     "text": [
      "[['T1', 'Alice', 'Smith', 'Mathematics'], ['T2', 'John', 'Brown', 'Physics'], ['T3', 'Maria', 'Johnson', 'Literature']]\n"
     ]
    }
   ],
   "source": [
    "print(data)"
   ]
  },
  {
   "cell_type": "code",
   "execution_count": 3,
   "id": "0adcedc4",
   "metadata": {},
   "outputs": [],
   "source": [
    "teacher_data=[]\n",
    "for row in range(len(data)):\n",
    "    teacher_data.append(f\"Teacher ID: {data[row][0]} is {data[row][1]} {data[row][2]} and they teach {data[row][3]}\")"
   ]
  },
  {
   "cell_type": "code",
   "execution_count": 4,
   "id": "480eec03",
   "metadata": {},
   "outputs": [
    {
     "data": {
      "text/plain": [
       "['Teacher ID: T1 is Alice Smith and they teach Mathematics',\n",
       " 'Teacher ID: T2 is John Brown and they teach Physics',\n",
       " 'Teacher ID: T3 is Maria Johnson and they teach Literature']"
      ]
     },
     "execution_count": 4,
     "metadata": {},
     "output_type": "execute_result"
    }
   ],
   "source": [
    "teacher_data"
   ]
  },
  {
   "cell_type": "code",
   "execution_count": 5,
   "id": "939024ef",
   "metadata": {},
   "outputs": [
    {
     "name": "stdout",
     "output_type": "stream",
     "text": [
      "Header: ['student_id', 'first_name', 'last_name', 'grade']\n",
      "First 5 rows: [['S1', 'David', 'Lee', '10'], ['S2', 'Emma', 'Davis', '10'], ['S3', 'Noah', 'Wilson', '11'], ['S4', 'Sophia', 'Clark', '11'], ['S5', 'Liam', 'Hall', '12']]\n"
     ]
    }
   ],
   "source": [
    "    filename = \"students.csv\"\n",
    "    data = []\n",
    "\n",
    "    with open(filename, 'r', newline='') as csvfile:\n",
    "        csvreader = csv.reader(csvfile)\n",
    "        header = next(csvreader)\n",
    "        for row in csvreader:\n",
    "            data.append(row)\n",
    "\n",
    "    print(\"Header:\", header)\n",
    "    print(\"First 5 rows:\", data[:5])"
   ]
  },
  {
   "cell_type": "code",
   "execution_count": 6,
   "id": "50c26573",
   "metadata": {},
   "outputs": [],
   "source": [
    "student_data=[]\n",
    "for row in range(len(data)):\n",
    "    student_data.append(f\"Student ID: {data[row][0]} is {data[row][1]} {data[row][2]} and they have a grade of {data[row][3]}\")"
   ]
  },
  {
   "cell_type": "code",
   "execution_count": 7,
   "id": "a4bc21da",
   "metadata": {},
   "outputs": [
    {
     "data": {
      "text/plain": [
       "['Student ID: S1 is David Lee and they have a grade of 10',\n",
       " 'Student ID: S2 is Emma Davis and they have a grade of 10',\n",
       " 'Student ID: S3 is Noah Wilson and they have a grade of 11',\n",
       " 'Student ID: S4 is Sophia Clark and they have a grade of 11',\n",
       " 'Student ID: S5 is Liam Hall and they have a grade of 12']"
      ]
     },
     "execution_count": 7,
     "metadata": {},
     "output_type": "execute_result"
    }
   ],
   "source": [
    "student_data"
   ]
  },
  {
   "cell_type": "code",
   "execution_count": 8,
   "id": "5a7c129f",
   "metadata": {},
   "outputs": [
    {
     "name": "stdout",
     "output_type": "stream",
     "text": [
      "Header: ['enrollment_id', 'student_id', 'teacher_id']\n",
      "First 5 rows: [['E1', 'S1', 'T1'], ['E2', 'S1', 'T2'], ['E3', 'S2', 'T1'], ['E4', 'S3', 'T2'], ['E5', 'S3', 'T3']]\n"
     ]
    }
   ],
   "source": [
    "    filename = \"enrollments.csv\"\n",
    "    data = []\n",
    "\n",
    "    with open(filename, 'r', newline='') as csvfile:\n",
    "        csvreader = csv.reader(csvfile)\n",
    "        header = next(csvreader)\n",
    "        for row in csvreader:\n",
    "            data.append(row)\n",
    "\n",
    "    print(\"Header:\", header)\n",
    "    print(\"First 5 rows:\", data[:5])"
   ]
  },
  {
   "cell_type": "code",
   "execution_count": 9,
   "id": "70fa0dbb",
   "metadata": {},
   "outputs": [],
   "source": [
    "enrollments_data=[]\n",
    "for row in range(len(data)):\n",
    "    enrollments_data.append(f\"Enrollment ID: {data[row][0]} is for Student ID: {data[row][1]} and is taught by Teacher ID: {data[row][2]}\")"
   ]
  },
  {
   "cell_type": "code",
   "execution_count": 10,
   "id": "b6c5cac6",
   "metadata": {},
   "outputs": [
    {
     "data": {
      "text/plain": [
       "['Enrollment ID: E1 is for Student ID: S1 and is taught by Teacher ID: T1',\n",
       " 'Enrollment ID: E2 is for Student ID: S1 and is taught by Teacher ID: T2',\n",
       " 'Enrollment ID: E3 is for Student ID: S2 and is taught by Teacher ID: T1',\n",
       " 'Enrollment ID: E4 is for Student ID: S3 and is taught by Teacher ID: T2',\n",
       " 'Enrollment ID: E5 is for Student ID: S3 and is taught by Teacher ID: T3',\n",
       " 'Enrollment ID: E6 is for Student ID: S4 and is taught by Teacher ID: T3',\n",
       " 'Enrollment ID: E7 is for Student ID: S5 and is taught by Teacher ID: T1',\n",
       " 'Enrollment ID: E8 is for Student ID: S5 and is taught by Teacher ID: T2']"
      ]
     },
     "execution_count": 10,
     "metadata": {},
     "output_type": "execute_result"
    }
   ],
   "source": [
    "enrollments_data"
   ]
  },
  {
   "cell_type": "code",
   "execution_count": 11,
   "id": "3dcea54a",
   "metadata": {},
   "outputs": [],
   "source": [
    "combined_data = teacher_data + student_data + enrollments_data"
   ]
  },
  {
   "cell_type": "code",
   "execution_count": 12,
   "id": "ca7f76eb",
   "metadata": {},
   "outputs": [
    {
     "data": {
      "text/plain": [
       "['Teacher ID: T1 is Alice Smith and they teach Mathematics',\n",
       " 'Teacher ID: T2 is John Brown and they teach Physics',\n",
       " 'Teacher ID: T3 is Maria Johnson and they teach Literature',\n",
       " 'Student ID: S1 is David Lee and they have a grade of 10',\n",
       " 'Student ID: S2 is Emma Davis and they have a grade of 10',\n",
       " 'Student ID: S3 is Noah Wilson and they have a grade of 11',\n",
       " 'Student ID: S4 is Sophia Clark and they have a grade of 11',\n",
       " 'Student ID: S5 is Liam Hall and they have a grade of 12',\n",
       " 'Enrollment ID: E1 is for Student ID: S1 and is taught by Teacher ID: T1',\n",
       " 'Enrollment ID: E2 is for Student ID: S1 and is taught by Teacher ID: T2',\n",
       " 'Enrollment ID: E3 is for Student ID: S2 and is taught by Teacher ID: T1',\n",
       " 'Enrollment ID: E4 is for Student ID: S3 and is taught by Teacher ID: T2',\n",
       " 'Enrollment ID: E5 is for Student ID: S3 and is taught by Teacher ID: T3',\n",
       " 'Enrollment ID: E6 is for Student ID: S4 and is taught by Teacher ID: T3',\n",
       " 'Enrollment ID: E7 is for Student ID: S5 and is taught by Teacher ID: T1',\n",
       " 'Enrollment ID: E8 is for Student ID: S5 and is taught by Teacher ID: T2']"
      ]
     },
     "execution_count": 12,
     "metadata": {},
     "output_type": "execute_result"
    }
   ],
   "source": [
    "combined_data\n"
   ]
  },
  {
   "cell_type": "code",
   "execution_count": 14,
   "id": "e0c88b9d",
   "metadata": {},
   "outputs": [],
   "source": [
    "import requests\n",
    "import json\n",
    "\n",
    "# Ollama API endpoint\n",
    "OLLAMA_URL = \"http://localhost:11434/api/embeddings\"\n",
    "MODEL = \"nomic-embed-text\"\n",
    "\n",
    "# Your knowledge base (flattened DB facts)\n",
    "documents = combined_data\n",
    "\n",
    "def get_embedding(text):\n",
    "    payload = {\n",
    "        \"model\": MODEL,\n",
    "        \"prompt\": text\n",
    "    }\n",
    "    response = requests.post(OLLAMA_URL, json=payload)\n",
    "    response.raise_for_status()\n",
    "    return response.json()[\"embedding\"]\n",
    "\n",
    "# Encode all documents\n",
    "encoded_data = [{\"text\": doc, \"embedding\": get_embedding(doc)} for doc in documents]\n",
    "\n",
    "# Save embeddings to JSON\n",
    "with open(\"ollama_embeddings.json\", \"w\") as f:\n",
    "    json.dump(encoded_data, f)\n"
   ]
  },
  {
   "cell_type": "code",
   "execution_count": null,
   "id": "93ac6de9",
   "metadata": {},
   "outputs": [],
   "source": []
  }
 ],
 "metadata": {
  "kernelspec": {
   "display_name": "env",
   "language": "python",
   "name": "python3"
  },
  "language_info": {
   "codemirror_mode": {
    "name": "ipython",
    "version": 3
   },
   "file_extension": ".py",
   "mimetype": "text/x-python",
   "name": "python",
   "nbconvert_exporter": "python",
   "pygments_lexer": "ipython3",
   "version": "3.13.6"
  }
 },
 "nbformat": 4,
 "nbformat_minor": 5
}
